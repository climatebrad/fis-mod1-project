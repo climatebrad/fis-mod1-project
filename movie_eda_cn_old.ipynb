{
 "cells": [
  {
   "cell_type": "code",
   "execution_count": 3,
   "metadata": {},
   "outputs": [],
   "source": [
    "import pandas as pd\n",
    "import numpy as np\n",
    "import seaborn as sns\n",
    "import importlib\n",
    "import data_cleaning\n",
    "import matplotlib.pyplot as plt\n",
    "from data_cleaning import df_from_movie_csv, TABLE_FORMATS\n",
    "%matplotlib inline"
   ]
  },
  {
   "cell_type": "code",
   "execution_count": 4,
   "metadata": {},
   "outputs": [
    {
     "data": {
      "text/plain": [
       "dict_keys(['bom.movie_gross', 'imdb.name.basics', 'imdb.title.basics', 'imdb.title.crew', 'imdb.title.principals', 'imdb.title.ratings', 'imdb.title.akas', 'rt.movie_info', 'rt.reviews', 'tmdb.movies', 'tn.movie_budgets'])"
      ]
     },
     "execution_count": 4,
     "metadata": {},
     "output_type": "execute_result"
    }
   ],
   "source": [
    "TABLE_FORMATS.keys()"
   ]
  },
  {
   "cell_type": "code",
   "execution_count": 12,
   "metadata": {},
   "outputs": [],
   "source": [
    "dfs = {}\n",
    "\n",
    "for table_name in TABLE_FORMATS.keys():\n",
    "    dfs[table_name] = df_from_movie_csv(table_name, rootdir='~/Projects/dc-ds/lectures/dc-ds-100719/module-1/week-3/project/data/')"
   ]
  },
  {
   "cell_type": "markdown",
   "metadata": {},
   "source": [
    "## Basic dataframe info -- head & info"
   ]
  },
  {
   "cell_type": "code",
   "execution_count": 13,
   "metadata": {},
   "outputs": [
    {
     "name": "stdout",
     "output_type": "stream",
     "text": [
      "bom.movie_gross \n",
      "                                          title studio  domestic_gross  \\\n",
      "0                                  Toy Story 3     BV     415000000.0   \n",
      "1                   Alice in Wonderland (2010)     BV     334200000.0   \n",
      "2  Harry Potter and the Deathly Hallows Part 1     WB     296000000.0   \n",
      "3                                    Inception     WB     292600000.0   \n",
      "4                          Shrek Forever After   P/DW     238700000.0   \n",
      "\n",
      "  foreign_gross  year  \n",
      "0     652000000  2010  \n",
      "1     691300000  2010  \n",
      "2     664300000  2010  \n",
      "3     535700000  2010  \n",
      "4     513900000  2010  \n",
      "imdb.name.basics \n",
      "                 primary_name  birth_year  death_year  \\\n",
      "nconst                                                 \n",
      "nm0061671  Mary Ellen Bauder         NaN         NaN   \n",
      "nm0061865       Joseph Bauer         NaN         NaN   \n",
      "nm0062070         Bruce Baum         NaN         NaN   \n",
      "nm0062195       Axel Baumann         NaN         NaN   \n",
      "nm0062798        Pete Baxter         NaN         NaN   \n",
      "\n",
      "                                         primary_profession  \\\n",
      "nconst                                                        \n",
      "nm0061671         miscellaneous,production_manager,producer   \n",
      "nm0061865        composer,music_department,sound_department   \n",
      "nm0062070                        miscellaneous,actor,writer   \n",
      "nm0062195  camera_department,cinematographer,art_department   \n",
      "nm0062798  production_designer,art_department,set_decorator   \n",
      "\n",
      "                                  known_for_titles  \n",
      "nconst                                              \n",
      "nm0061671  tt0837562,tt2398241,tt0844471,tt0118553  \n",
      "nm0061865  tt0896534,tt6791238,tt0287072,tt1682940  \n",
      "nm0062070  tt1470654,tt0363631,tt0104030,tt0102898  \n",
      "nm0062195  tt0114371,tt2004304,tt1618448,tt1224387  \n",
      "nm0062798  tt0452644,tt0452692,tt3458030,tt2178256  \n",
      "imdb.title.basics \n",
      "                              primary_title              original_title  \\\n",
      "tconst                                                                   \n",
      "tt0063540                        Sunghursh                   Sunghursh   \n",
      "tt0066787  One Day Before the Rainy Season             Ashad Ka Ek Din   \n",
      "tt0069049       The Other Side of the Wind  The Other Side of the Wind   \n",
      "tt0069204                  Sabse Bada Sukh             Sabse Bada Sukh   \n",
      "tt0100275         The Wandering Soap Opera       La Telenovela Errante   \n",
      "\n",
      "           start_year  runtime_minutes                genres  \n",
      "tconst                                                        \n",
      "tt0063540        2013            175.0    Action,Crime,Drama  \n",
      "tt0066787        2019            114.0       Biography,Drama  \n",
      "tt0069049        2018            122.0                 Drama  \n",
      "tt0069204        2018              NaN          Comedy,Drama  \n",
      "tt0100275        2017             80.0  Comedy,Drama,Fantasy  \n",
      "imdb.title.crew \n",
      "                                directors              writers\n",
      "tconst                                                       \n",
      "tt0285252                      nm0899854            nm0899854\n",
      "tt0438973                            NaN  nm0175726,nm1802864\n",
      "tt0462036                      nm1940585            nm1940585\n",
      "tt0835418                      nm0151540  nm0310087,nm0841532\n",
      "tt0878654  nm0089502,nm2291498,nm2292011            nm0284943\n",
      "imdb.title.principals \n",
      "            ordering     nconst  category       job        characters\n",
      "tconst                                                              \n",
      "tt0111414         1  nm0246005     actor       NaN       [\"The Man\"]\n",
      "tt0111414         2  nm0398271  director       NaN               NaN\n",
      "tt0111414         3  nm3739909  producer  producer               NaN\n",
      "tt0323808        10  nm0059247    editor       NaN               NaN\n",
      "tt0323808         1  nm3579312   actress       NaN  [\"Beth Boothby\"]\n",
      "imdb.title.ratings \n",
      "             averagerating  numvotes\n",
      "tconst                             \n",
      "tt10356526            8.3        31\n",
      "tt10384606            8.9       559\n",
      "tt1042974             6.4        20\n",
      "tt1043726             4.2     50352\n",
      "tt1060240             6.5        21\n",
      "imdb.title.akas \n",
      "            ordering                                    title region language  \\\n",
      "title_id                                                                       \n",
      "tt0369610        10                            Джурасик свят     BG       bg   \n",
      "tt0369610        11                        Jurashikku warudo     JP      NaN   \n",
      "tt0369610        12  Jurassic World: O Mundo dos Dinossauros     BR      NaN   \n",
      "tt0369610        13                  O Mundo dos Dinossauros     BR      NaN   \n",
      "tt0369610        14                           Jurassic World     FR      NaN   \n",
      "\n",
      "                 types   attributes  is_original_title  \n",
      "title_id                                                \n",
      "tt0369610          NaN          NaN                0.0  \n",
      "tt0369610  imdbDisplay          NaN                0.0  \n",
      "tt0369610  imdbDisplay          NaN                0.0  \n",
      "tt0369610          NaN  short title                0.0  \n",
      "tt0369610  imdbDisplay          NaN                0.0  \n",
      "rt.movie_info \n",
      "                                              synopsis rating  \\\n",
      "id                                                             \n",
      "1   This gritty, fast-paced, and innovative police...      R   \n",
      "3   New York City, not-too-distant-future: Eric Pa...      R   \n",
      "5   Illeana Douglas delivers a superb performance ...      R   \n",
      "6   Michael Douglas runs afoul of a treacherous su...      R   \n",
      "7                                                 NaN     NR   \n",
      "\n",
      "                                  genre          director  \\\n",
      "id                                                          \n",
      "1   Action and Adventure|Classics|Drama  William Friedkin   \n",
      "3     Drama|Science Fiction and Fantasy  David Cronenberg   \n",
      "5     Drama|Musical and Performing Arts    Allison Anders   \n",
      "6            Drama|Mystery and Suspense    Barry Levinson   \n",
      "7                         Drama|Romance    Rodney Bennett   \n",
      "\n",
      "                             writer theater_date   dvd_date currency  \\\n",
      "id                                                                     \n",
      "1                    Ernest Tidyman   1971-10-09 2001-09-25      NaN   \n",
      "3      David Cronenberg|Don DeLillo   2012-08-17 2013-01-01        $   \n",
      "5                    Allison Anders   1996-09-13 2000-04-18      NaN   \n",
      "6   Paul Attanasio|Michael Crichton   1994-12-09 1997-08-27      NaN   \n",
      "7                      Giles Cooper          NaT        NaT      NaN   \n",
      "\n",
      "   box_office      runtime             studio  \n",
      "id                                             \n",
      "1         NaN  104 minutes                NaN  \n",
      "3     600,000  108 minutes  Entertainment One  \n",
      "5         NaN  116 minutes                NaN  \n",
      "6         NaN  128 minutes                NaN  \n",
      "7         NaN  200 minutes                NaN  \n",
      "rt.reviews \n",
      "                                                review rating   fresh  \\\n",
      "id                                                                     \n",
      "3   A distinctly gallows take on contemporary fina...    3/5   fresh   \n",
      "3   It's an allegory in search of a meaning that n...    NaN  rotten   \n",
      "3   ... life lived in a bubble in financial dealin...    NaN   fresh   \n",
      "3   Continuing along a line introduced in last yea...    NaN   fresh   \n",
      "3              ... a perverse twist on neorealism...     NaN   fresh   \n",
      "\n",
      "            critic  top_critic         publisher       date  \n",
      "id                                                           \n",
      "3       PJ Nabarro           0   Patrick Nabarro 2018-11-10  \n",
      "3   Annalee Newitz           0           io9.com 2018-05-23  \n",
      "3     Sean Axmaker           0  Stream on Demand 2018-01-04  \n",
      "3    Daniel Kasman           0              MUBI 2017-11-16  \n",
      "3              NaN           0      Cinema Scope 2017-10-12  \n",
      "tmdb.movies \n",
      "                  genre_ids original_language  \\\n",
      "id                                             \n",
      "12444      [12, 14, 10751]                en   \n",
      "10191  [14, 12, 16, 10751]                en   \n",
      "10138        [12, 28, 878]                en   \n",
      "862        [16, 35, 10751]                en   \n",
      "27205        [28, 878, 12]                en   \n",
      "\n",
      "                                     original_title  popularity release_date  \\\n",
      "id                                                                             \n",
      "12444  Harry Potter and the Deathly Hallows: Part 1      33.533   2010-11-19   \n",
      "10191                      How to Train Your Dragon      28.734   2010-03-26   \n",
      "10138                                    Iron Man 2      28.515   2010-05-07   \n",
      "862                                       Toy Story      28.005   1995-11-22   \n",
      "27205                                     Inception      27.920   2010-07-16   \n",
      "\n",
      "                                              title  vote_average  vote_count  \n",
      "id                                                                             \n",
      "12444  Harry Potter and the Deathly Hallows: Part 1           7.7       10788  \n",
      "10191                      How to Train Your Dragon           7.7        7610  \n",
      "10138                                    Iron Man 2           6.8       12368  \n",
      "862                                       Toy Story           7.9       10174  \n",
      "27205                                     Inception           8.3       22186  \n",
      "tn.movie_budgets \n",
      "    release_date                                        movie  \\\n",
      "id                                                             \n",
      "1    2009-12-18                                       Avatar   \n",
      "2    2011-05-20  Pirates of the Caribbean: On Stranger Tides   \n",
      "3    2019-06-07                                 Dark Phoenix   \n",
      "4    2015-05-01                      Avengers: Age of Ultron   \n",
      "5    2017-12-15            Star Wars Ep. VIII: The Last Jedi   \n",
      "\n",
      "    production_budget  domestic_gross  worldwide_gross  \n",
      "id                                                      \n",
      "1         425000000.0     760507625.0     2.776345e+09  \n",
      "2         410600000.0     241063875.0     1.045664e+09  \n",
      "3         350000000.0      42762350.0     1.497624e+08  \n",
      "4         330600000.0     459005868.0     1.403014e+09  \n",
      "5         317000000.0     620181382.0     1.316722e+09  \n"
     ]
    }
   ],
   "source": [
    "for df_name,movie_df in dfs.items():\n",
    "    print(df_name,\"\\n\",movie_df.head())"
   ]
  },
  {
   "cell_type": "code",
   "execution_count": 14,
   "metadata": {},
   "outputs": [
    {
     "name": "stdout",
     "output_type": "stream",
     "text": [
      "\n",
      "bom.movie_gross\n",
      "<class 'pandas.core.frame.DataFrame'>\n",
      "RangeIndex: 3387 entries, 0 to 3386\n",
      "Data columns (total 5 columns):\n",
      "title             3387 non-null object\n",
      "studio            3382 non-null object\n",
      "domestic_gross    3359 non-null float64\n",
      "foreign_gross     2037 non-null object\n",
      "year              3387 non-null int64\n",
      "dtypes: float64(1), int64(1), object(3)\n",
      "memory usage: 132.4+ KB\n",
      "None\n",
      "\n",
      "imdb.name.basics\n",
      "<class 'pandas.core.frame.DataFrame'>\n",
      "Index: 606648 entries, nm0061671 to nm9993380\n",
      "Data columns (total 5 columns):\n",
      "primary_name          606648 non-null object\n",
      "birth_year            82736 non-null float64\n",
      "death_year            6783 non-null float64\n",
      "primary_profession    555308 non-null object\n",
      "known_for_titles      576444 non-null object\n",
      "dtypes: float64(2), object(3)\n",
      "memory usage: 27.8+ MB\n",
      "None\n",
      "\n",
      "imdb.title.basics\n",
      "<class 'pandas.core.frame.DataFrame'>\n",
      "Index: 146144 entries, tt0063540 to tt9916754\n",
      "Data columns (total 5 columns):\n",
      "primary_title      146144 non-null object\n",
      "original_title     146123 non-null object\n",
      "start_year         146144 non-null int64\n",
      "runtime_minutes    114405 non-null float64\n",
      "genres             140736 non-null object\n",
      "dtypes: float64(1), int64(1), object(3)\n",
      "memory usage: 6.7+ MB\n",
      "None\n",
      "\n",
      "imdb.title.crew\n",
      "<class 'pandas.core.frame.DataFrame'>\n",
      "Index: 146144 entries, tt0285252 to tt9010172\n",
      "Data columns (total 2 columns):\n",
      "directors    140417 non-null object\n",
      "writers      110261 non-null object\n",
      "dtypes: object(2)\n",
      "memory usage: 3.3+ MB\n",
      "None\n",
      "\n",
      "imdb.title.principals\n",
      "<class 'pandas.core.frame.DataFrame'>\n",
      "Index: 1028186 entries, tt0111414 to tt9692684\n",
      "Data columns (total 5 columns):\n",
      "ordering      1028186 non-null int64\n",
      "nconst        1028186 non-null object\n",
      "category      1028186 non-null object\n",
      "job           177684 non-null object\n",
      "characters    393360 non-null object\n",
      "dtypes: int64(1), object(4)\n",
      "memory usage: 47.1+ MB\n",
      "None\n",
      "\n",
      "imdb.title.ratings\n",
      "<class 'pandas.core.frame.DataFrame'>\n",
      "Index: 73856 entries, tt10356526 to tt9894098\n",
      "Data columns (total 2 columns):\n",
      "averagerating    73856 non-null float64\n",
      "numvotes         73856 non-null int64\n",
      "dtypes: float64(1), int64(1)\n",
      "memory usage: 1.7+ MB\n",
      "None\n",
      "\n",
      "imdb.title.akas\n",
      "<class 'pandas.core.frame.DataFrame'>\n",
      "Index: 331703 entries, tt0369610 to tt9880178\n",
      "Data columns (total 7 columns):\n",
      "ordering             331703 non-null int64\n",
      "title                331703 non-null object\n",
      "region               278410 non-null object\n",
      "language             41715 non-null object\n",
      "types                168447 non-null object\n",
      "attributes           14925 non-null object\n",
      "is_original_title    331678 non-null float64\n",
      "dtypes: float64(1), int64(1), object(5)\n",
      "memory usage: 20.2+ MB\n",
      "None\n",
      "\n",
      "rt.movie_info\n",
      "<class 'pandas.core.frame.DataFrame'>\n",
      "Int64Index: 1560 entries, 1 to 2000\n",
      "Data columns (total 11 columns):\n",
      "synopsis        1498 non-null object\n",
      "rating          1557 non-null object\n",
      "genre           1552 non-null object\n",
      "director        1361 non-null object\n",
      "writer          1111 non-null object\n",
      "theater_date    1201 non-null datetime64[ns]\n",
      "dvd_date        1201 non-null datetime64[ns]\n",
      "currency        340 non-null object\n",
      "box_office      340 non-null object\n",
      "runtime         1530 non-null object\n",
      "studio          494 non-null object\n",
      "dtypes: datetime64[ns](2), object(9)\n",
      "memory usage: 146.2+ KB\n",
      "None\n",
      "\n",
      "rt.reviews\n",
      "<class 'pandas.core.frame.DataFrame'>\n",
      "Int64Index: 54432 entries, 3 to 2000\n",
      "Data columns (total 7 columns):\n",
      "review        48869 non-null object\n",
      "rating        40915 non-null object\n",
      "fresh         54432 non-null object\n",
      "critic        51710 non-null object\n",
      "top_critic    54432 non-null int64\n",
      "publisher     54123 non-null object\n",
      "date          54432 non-null datetime64[ns]\n",
      "dtypes: datetime64[ns](1), int64(1), object(5)\n",
      "memory usage: 3.3+ MB\n",
      "None\n",
      "\n",
      "tmdb.movies\n",
      "<class 'pandas.core.frame.DataFrame'>\n",
      "Int64Index: 26517 entries, 12444 to 309885\n",
      "Data columns (total 8 columns):\n",
      "genre_ids            26517 non-null object\n",
      "original_language    26517 non-null object\n",
      "original_title       26517 non-null object\n",
      "popularity           26517 non-null float64\n",
      "release_date         26517 non-null datetime64[ns]\n",
      "title                26517 non-null object\n",
      "vote_average         26517 non-null float64\n",
      "vote_count           26517 non-null int64\n",
      "dtypes: datetime64[ns](1), float64(2), int64(1), object(4)\n",
      "memory usage: 1.8+ MB\n",
      "None\n",
      "\n",
      "tn.movie_budgets\n",
      "<class 'pandas.core.frame.DataFrame'>\n",
      "Int64Index: 5782 entries, 1 to 82\n",
      "Data columns (total 5 columns):\n",
      "release_date         5782 non-null datetime64[ns]\n",
      "movie                5782 non-null object\n",
      "production_budget    5782 non-null float64\n",
      "domestic_gross       5782 non-null float64\n",
      "worldwide_gross      5782 non-null float64\n",
      "dtypes: datetime64[ns](1), float64(3), object(1)\n",
      "memory usage: 271.0+ KB\n",
      "None\n"
     ]
    }
   ],
   "source": [
    "for df_name,movie_df in dfs.items():\n",
    "    print(f\"\\n{df_name}\")\n",
    "    print(movie_df.info())"
   ]
  },
  {
   "cell_type": "code",
   "execution_count": 15,
   "metadata": {},
   "outputs": [
    {
     "name": "stdout",
     "output_type": "stream",
     "text": [
      "\n",
      "bom.movie_gross\n",
      "       domestic_gross         year\n",
      "count    3.359000e+03  3387.000000\n",
      "mean     2.874585e+07  2013.958075\n",
      "std      6.698250e+07     2.478141\n",
      "min      1.000000e+02  2010.000000\n",
      "25%      1.200000e+05  2012.000000\n",
      "50%      1.400000e+06  2014.000000\n",
      "75%      2.790000e+07  2016.000000\n",
      "max      9.367000e+08  2018.000000\n",
      "\n",
      "imdb.name.basics\n",
      "         birth_year   death_year\n",
      "count  82736.000000  6783.000000\n",
      "mean    1967.043826  2000.523367\n",
      "std       22.122190    43.951530\n",
      "min        1.000000    17.000000\n",
      "25%     1957.000000  2001.000000\n",
      "50%     1971.000000  2013.000000\n",
      "75%     1981.000000  2016.000000\n",
      "max     2014.000000  2019.000000\n",
      "\n",
      "imdb.title.basics\n",
      "          start_year  runtime_minutes\n",
      "count  146144.000000    114405.000000\n",
      "mean     2014.621798        86.187247\n",
      "std         2.733583       166.360590\n",
      "min      2010.000000         1.000000\n",
      "25%      2012.000000        70.000000\n",
      "50%      2015.000000        87.000000\n",
      "75%      2017.000000        99.000000\n",
      "max      2115.000000     51420.000000\n",
      "\n",
      "imdb.title.crew\n",
      "        directors    writers\n",
      "count      140417     110261\n",
      "unique      98525      91920\n",
      "top     nm3266654  nm0000636\n",
      "freq           62         80\n",
      "\n",
      "imdb.title.principals\n",
      "           ordering\n",
      "count  1.028186e+06\n",
      "mean   4.739847e+00\n",
      "std    2.747446e+00\n",
      "min    1.000000e+00\n",
      "25%    2.000000e+00\n",
      "50%    4.000000e+00\n",
      "75%    7.000000e+00\n",
      "max    1.000000e+01\n",
      "\n",
      "imdb.title.ratings\n",
      "       averagerating      numvotes\n",
      "count   73856.000000  7.385600e+04\n",
      "mean        6.332729  3.523662e+03\n",
      "std         1.474978  3.029402e+04\n",
      "min         1.000000  5.000000e+00\n",
      "25%         5.500000  1.400000e+01\n",
      "50%         6.500000  4.900000e+01\n",
      "75%         7.400000  2.820000e+02\n",
      "max        10.000000  1.841066e+06\n",
      "\n",
      "imdb.title.akas\n",
      "            ordering  is_original_title\n",
      "count  331703.000000      331678.000000\n",
      "mean        5.125872           0.134769\n",
      "std         6.706664           0.341477\n",
      "min         1.000000           0.000000\n",
      "25%         1.000000           0.000000\n",
      "50%         2.000000           0.000000\n",
      "75%         6.000000           0.000000\n",
      "max        61.000000           1.000000\n",
      "\n",
      "rt.movie_info\n",
      "                                                 synopsis rating  genre  \\\n",
      "count                                                1498   1557   1552   \n",
      "unique                                               1497      6    299   \n",
      "top     A group of air crash survivors are stranded in...      R  Drama   \n",
      "freq                                                    2    521    151   \n",
      "first                                                 NaN    NaN    NaN   \n",
      "last                                                  NaN    NaN    NaN   \n",
      "\n",
      "                director       writer         theater_date  \\\n",
      "count               1361         1111                 1201   \n",
      "unique              1125         1069                 1025   \n",
      "top     Steven Spielberg  Woody Allen  1987-01-01 00:00:00   \n",
      "freq                  10            4                    8   \n",
      "first                NaN          NaN  1921-01-01 00:00:00   \n",
      "last                 NaN          NaN  2018-10-19 00:00:00   \n",
      "\n",
      "                   dvd_date currency box_office     runtime  \\\n",
      "count                  1201      340        340        1530   \n",
      "unique                  717        1        336         142   \n",
      "top     2004-06-01 00:00:00        $    200,000  90 minutes   \n",
      "freq                     11      340          2          72   \n",
      "first   1987-04-15 00:00:00      NaN        NaN         NaN   \n",
      "last    2019-02-05 00:00:00      NaN        NaN         NaN   \n",
      "\n",
      "                    studio  \n",
      "count                  494  \n",
      "unique                 200  \n",
      "top     Universal Pictures  \n",
      "freq                    35  \n",
      "first                  NaN  \n",
      "last                   NaN  \n",
      "\n",
      "rt.reviews\n",
      "         top_critic\n",
      "count  54432.000000\n",
      "mean       0.240594\n",
      "std        0.427448\n",
      "min        0.000000\n",
      "25%        0.000000\n",
      "50%        0.000000\n",
      "75%        0.000000\n",
      "max        1.000000\n",
      "\n",
      "tmdb.movies\n",
      "         popularity  vote_average    vote_count\n",
      "count  26517.000000  26517.000000  26517.000000\n",
      "mean       3.130912      5.991281    194.224837\n",
      "std        4.355229      1.852946    960.961095\n",
      "min        0.600000      0.000000      1.000000\n",
      "25%        0.600000      5.000000      2.000000\n",
      "50%        1.374000      6.000000      5.000000\n",
      "75%        3.694000      7.000000     28.000000\n",
      "max       80.773000     10.000000  22186.000000\n",
      "\n",
      "tn.movie_budgets\n",
      "       production_budget  domestic_gross  worldwide_gross\n",
      "count       5.782000e+03    5.782000e+03     5.782000e+03\n",
      "mean        3.158776e+07    4.187333e+07     9.148746e+07\n",
      "std         4.181208e+07    6.824060e+07     1.747200e+08\n",
      "min         1.100000e+03    0.000000e+00     0.000000e+00\n",
      "25%         5.000000e+06    1.429534e+06     4.125415e+06\n",
      "50%         1.700000e+07    1.722594e+07     2.798445e+07\n",
      "75%         4.000000e+07    5.234866e+07     9.764584e+07\n",
      "max         4.250000e+08    9.366622e+08     2.776345e+09\n"
     ]
    }
   ],
   "source": [
    "for df_name,movie_df in dfs.items():\n",
    "    print(f\"\\n{df_name}\")\n",
    "    print(movie_df.describe())"
   ]
  },
  {
   "cell_type": "markdown",
   "metadata": {},
   "source": [
    "Limit the years"
   ]
  },
  {
   "cell_type": "code",
   "execution_count": 16,
   "metadata": {},
   "outputs": [
    {
     "data": {
      "text/plain": [
       "count                   26517\n",
       "unique                   3433\n",
       "top       2010-01-01 00:00:00\n",
       "freq                      269\n",
       "first     1930-04-29 00:00:00\n",
       "last      2020-12-25 00:00:00\n",
       "Name: release_date, dtype: object"
      ]
     },
     "execution_count": 16,
     "metadata": {},
     "output_type": "execute_result"
    }
   ],
   "source": [
    "dfs['tmdb.movies'].release_date.describe()"
   ]
  },
  {
   "cell_type": "code",
   "execution_count": 17,
   "metadata": {},
   "outputs": [
    {
     "name": "stdout",
     "output_type": "stream",
     "text": [
      "<class 'pandas.core.frame.DataFrame'>\n",
      "Int64Index: 26291 entries, 12444 to 309885\n",
      "Data columns (total 8 columns):\n",
      "genre_ids            26291 non-null object\n",
      "original_language    26291 non-null object\n",
      "original_title       26291 non-null object\n",
      "popularity           26291 non-null float64\n",
      "release_date         26291 non-null datetime64[ns]\n",
      "title                26291 non-null object\n",
      "vote_average         26291 non-null float64\n",
      "vote_count           26291 non-null int64\n",
      "dtypes: datetime64[ns](1), float64(2), int64(1), object(4)\n",
      "memory usage: 1.8+ MB\n"
     ]
    }
   ],
   "source": [
    "tmdb = dfs['tmdb.movies']\n",
    "tmdb = tmdb[tmdb.release_date.dt.year > 2009]\n",
    "tmdb.info()"
   ]
  },
  {
   "cell_type": "markdown",
   "metadata": {},
   "source": [
    "## Distribution of IMDB movie ratings"
   ]
  },
  {
   "cell_type": "code",
   "execution_count": 18,
   "metadata": {},
   "outputs": [],
   "source": [
    "imdb_title_ratings = dfs['imdb.title.basics'].join(dfs['imdb.title.ratings'])"
   ]
  },
  {
   "cell_type": "code",
   "execution_count": 19,
   "metadata": {},
   "outputs": [
    {
     "ename": "AttributeError",
     "evalue": "module 'matplotlib.pyplot' has no attribute 'set_title'",
     "output_type": "error",
     "traceback": [
      "\u001b[0;31m---------------------------------------------------------------------------\u001b[0m",
      "\u001b[0;31mAttributeError\u001b[0m                            Traceback (most recent call last)",
      "\u001b[0;32m<ipython-input-19-6b3c15104a15>\u001b[0m in \u001b[0;36m<module>\u001b[0;34m\u001b[0m\n\u001b[1;32m      1\u001b[0m \u001b[0mimdb_title_ratings\u001b[0m\u001b[0;34m[\u001b[0m\u001b[0;34m(\u001b[0m\u001b[0mimdb_title_ratings\u001b[0m\u001b[0;34m.\u001b[0m\u001b[0mnumvotes\u001b[0m \u001b[0;34m>\u001b[0m \u001b[0;36m100000\u001b[0m\u001b[0;34m)\u001b[0m\u001b[0;34m]\u001b[0m\u001b[0;34m[\u001b[0m\u001b[0;34m'averagerating'\u001b[0m\u001b[0;34m]\u001b[0m\u001b[0;34m.\u001b[0m\u001b[0mhist\u001b[0m\u001b[0;34m(\u001b[0m\u001b[0;34m)\u001b[0m\u001b[0;34m\u001b[0m\u001b[0;34m\u001b[0m\u001b[0m\n\u001b[0;32m----> 2\u001b[0;31m \u001b[0mplt\u001b[0m\u001b[0;34m.\u001b[0m\u001b[0mset_title\u001b[0m\u001b[0;34m(\u001b[0m\u001b[0;34m'Average ratings'\u001b[0m\u001b[0;34m)\u001b[0m\u001b[0;34m\u001b[0m\u001b[0;34m\u001b[0m\u001b[0m\n\u001b[0m",
      "\u001b[0;31mAttributeError\u001b[0m: module 'matplotlib.pyplot' has no attribute 'set_title'"
     ]
    },
    {
     "data": {
      "image/png": "[encoded data removed]",
      "text/plain": [
       "<Figure size 432x288 with 1 Axes>"
      ]
     },
     "metadata": {
      "needs_background": "light"
     },
     "output_type": "display_data"
    }
   ],
   "source": [
    "imdb_title_ratings[(imdb_title_ratings.numvotes > 100000)]['averagerating'].hist()\n",
    "plt.set_title('Average ratings')"
   ]
  },
  {
   "cell_type": "code",
   "execution_count": 20,
   "metadata": {},
   "outputs": [],
   "source": [
    "from split_data_fields import expand_df_split_fields\n",
    "title_genres = expand_df_split_fields(dfs['imdb.title.basics'],'imdb.title.basics')"
   ]
  },
  {
   "cell_type": "markdown",
   "metadata": {},
   "source": [
    "## Chaus's Updates start here***\n",
    "analyzing genre data"
   ]
  },
  {
   "cell_type": "code",
   "execution_count": 22,
   "metadata": {
    "scrolled": true
   },
   "outputs": [
    {
     "name": "stdout",
     "output_type": "stream",
     "text": [
      "<class 'pandas.core.frame.DataFrame'>\n",
      "Index: 73856 entries, tt0063540 to tt9916160\n",
      "Data columns (total 7 columns):\n",
      "primary_title      73856 non-null object\n",
      "original_title     73856 non-null object\n",
      "start_year         73856 non-null int64\n",
      "runtime_minutes    66236 non-null float64\n",
      "genres             73052 non-null object\n",
      "averagerating      73856 non-null float64\n",
      "numvotes           73856 non-null float64\n",
      "dtypes: float64(3), int64(1), object(3)\n",
      "memory usage: 4.5+ MB\n"
     ]
    }
   ],
   "source": [
    "# CHAU CHANGED THIS TO greater than 0 to just get all records for the dataframes below\n",
    "top_movies = imdb_title_ratings[(imdb_title_ratings.numvotes > 0)].copy()\n",
    "top_movies.info()"
   ]
  },
  {
   "cell_type": "markdown",
   "metadata": {},
   "source": [
    "Match most-rated IMDB movies to BOM data based on title. That gives us 520 movies."
   ]
  },
  {
   "cell_type": "code",
   "execution_count": 1,
   "metadata": {},
   "outputs": [
    {
     "ename": "NameError",
     "evalue": "name 'top_movies' is not defined",
     "output_type": "error",
     "traceback": [
      "\u001b[0;31m---------------------------------------------------------------------------\u001b[0m",
      "\u001b[0;31mNameError\u001b[0m                                 Traceback (most recent call last)",
      "\u001b[0;32m<ipython-input-1-5c685cf74482>\u001b[0m in \u001b[0;36m<module>\u001b[0;34m\u001b[0m\n\u001b[0;32m----> 1\u001b[0;31m \u001b[0mimdb_bom_df\u001b[0m \u001b[0;34m=\u001b[0m \u001b[0mtop_movies\u001b[0m\u001b[0;34m.\u001b[0m\u001b[0mreset_index\u001b[0m\u001b[0;34m(\u001b[0m\u001b[0;34m)\u001b[0m\u001b[0;34m.\u001b[0m\u001b[0mset_index\u001b[0m\u001b[0;34m(\u001b[0m\u001b[0;34m'primary_title'\u001b[0m\u001b[0;34m)\u001b[0m\u001b[0;31m \u001b[0m\u001b[0;31m\\\u001b[0m\u001b[0;34m\u001b[0m\u001b[0;34m\u001b[0m\u001b[0m\n\u001b[0m\u001b[1;32m      2\u001b[0m                         \u001b[0;34m.\u001b[0m\u001b[0mjoin\u001b[0m\u001b[0;34m(\u001b[0m\u001b[0mdfs\u001b[0m\u001b[0;34m[\u001b[0m\u001b[0;34m'bom.movie_gross'\u001b[0m\u001b[0;34m]\u001b[0m\u001b[0;34m.\u001b[0m\u001b[0mset_index\u001b[0m\u001b[0;34m(\u001b[0m\u001b[0;34m'title'\u001b[0m\u001b[0;34m)\u001b[0m\u001b[0;34m,\u001b[0m \u001b[0mhow\u001b[0m\u001b[0;34m=\u001b[0m\u001b[0;34m'inner'\u001b[0m\u001b[0;34m)\u001b[0m\u001b[0;31m \u001b[0m\u001b[0;31m\\\u001b[0m\u001b[0;34m\u001b[0m\u001b[0;34m\u001b[0m\u001b[0m\n\u001b[1;32m      3\u001b[0m                         \u001b[0;34m.\u001b[0m\u001b[0mreset_index\u001b[0m\u001b[0;34m(\u001b[0m\u001b[0;34m)\u001b[0m\u001b[0;34m.\u001b[0m\u001b[0mset_index\u001b[0m\u001b[0;34m(\u001b[0m\u001b[0;34m'tconst'\u001b[0m\u001b[0;34m)\u001b[0m\u001b[0;34m\u001b[0m\u001b[0;34m\u001b[0m\u001b[0m\n",
      "\u001b[0;31mNameError\u001b[0m: name 'top_movies' is not defined"
     ]
    }
   ],
   "source": [
    "imdb_bom_df = top_movies.reset_index().set_index('primary_title') \\\n",
    "                        .join(dfs['bom.movie_gross'].set_index('title'), how='inner') \\\n",
    "                        .reset_index().set_index('tconst')"
   ]
  },
  {
   "cell_type": "code",
   "execution_count": null,
   "metadata": {},
   "outputs": [],
   "source": []
  },
  {
   "cell_type": "code",
   "execution_count": null,
   "metadata": {},
   "outputs": [],
   "source": []
  },
  {
   "cell_type": "code",
   "execution_count": null,
   "metadata": {},
   "outputs": [],
   "source": [
    "# Find the studios that \n",
    "imdb_bom_df['ct'] = 1\n",
    "imdb_bom_df.groupby('studio').count().sort_values(ascending=False, by='ct')\n",
    "#imdb_bom_df"
   ]
  },
  {
   "cell_type": "markdown",
   "metadata": {},
   "source": [
    "## Plot top 500 most-rated movies by domestic gross and rating"
   ]
  },
  {
   "cell_type": "code",
   "execution_count": null,
   "metadata": {},
   "outputs": [],
   "source": [
    "fig = plt.figure(figsize=(14,8))\n",
    "ax = fig.add_subplot()\n",
    "sns.scatterplot(x=imdb_bom_df.averagerating,y=imdb_bom_df.domestic_gross)\n",
    "ax.set_xlabel('average rating')\n",
    "ax.set_ylabel('domestic gross')"
   ]
  },
  {
   "cell_type": "code",
   "execution_count": null,
   "metadata": {},
   "outputs": [],
   "source": [
    "top_50k = imdb_title_ratings[(imdb_title_ratings.numvotes > 50000)].copy()"
   ]
  },
  {
   "cell_type": "code",
   "execution_count": null,
   "metadata": {},
   "outputs": [],
   "source": [
    "imdb_bom_50k = top_50k.reset_index().set_index('primary_title') \\\n",
    "                        .join(dfs['bom.movie_gross'].set_index('title'), how='inner') \\\n",
    "                        .reset_index().set_index('tconst')"
   ]
  },
  {
   "cell_type": "code",
   "execution_count": null,
   "metadata": {},
   "outputs": [],
   "source": [
    "imdb_bom_50k.info()"
   ]
  },
  {
   "cell_type": "code",
   "execution_count": null,
   "metadata": {},
   "outputs": [],
   "source": [
    "imdb_bom_50k[imdb_bom_50k.numvotes < 100000]"
   ]
  },
  {
   "cell_type": "code",
   "execution_count": null,
   "metadata": {},
   "outputs": [],
   "source": [
    "pd.set_option('display.max_rows',100)\n",
    "imdb_bom_50k.groupby('studio').count().sort_values(by='index',ascending=False)"
   ]
  },
  {
   "cell_type": "markdown",
   "metadata": {},
   "source": [
    "Is it easy to filter out foreign studios? We could look only at the most prolific studios or not worry about it. "
   ]
  },
  {
   "cell_type": "code",
   "execution_count": null,
   "metadata": {},
   "outputs": [],
   "source": []
  },
  {
   "cell_type": "markdown",
   "metadata": {},
   "source": [
    "Match all the IMDB movies to BoxOfficeMojo set."
   ]
  },
  {
   "cell_type": "code",
   "execution_count": null,
   "metadata": {},
   "outputs": [],
   "source": [
    "imdb_bom_df_big = imdb_title_ratings.reset_index().set_index('primary_title') \\\n",
    "                        .join(dfs['bom.movie_gross'].set_index('title'), how='inner') \\\n",
    "                        .reset_index().set_index('tconst')"
   ]
  },
  {
   "cell_type": "code",
   "execution_count": null,
   "metadata": {},
   "outputs": [],
   "source": [
    "imdb_bom_df_big.info()"
   ]
  },
  {
   "cell_type": "code",
   "execution_count": null,
   "metadata": {},
   "outputs": [],
   "source": [
    "imdb_bom_df_big[~(imdb_bom_df_big.start_year == imdb_bom_df_big.year)]"
   ]
  },
  {
   "cell_type": "code",
   "execution_count": null,
   "metadata": {},
   "outputs": [],
   "source": [
    "imdb_bom_df_big[(imdb_bom_df_big.numvotes>20000) & (imdb_bom_df_big.numvotes<50000)]"
   ]
  },
  {
   "cell_type": "markdown",
   "metadata": {},
   "source": [
    "### Filtering by studios that have grossed at least a million dollars in the Box Office Mojo data."
   ]
  },
  {
   "cell_type": "code",
   "execution_count": null,
   "metadata": {},
   "outputs": [],
   "source": [
    "df = imdb_bom_df_big.copy()\n",
    "df['ct'] = 1\n",
    "pd.set_option('display.max_rows',300)\n",
    "studios = df.groupby('studio').sum().sort_values(by='domestic_gross',ascending=False).query('domestic_gross > 1000000')"
   ]
  },
  {
   "cell_type": "code",
   "execution_count": null,
   "metadata": {},
   "outputs": [],
   "source": [
    "studios.ct.sum()"
   ]
  },
  {
   "cell_type": "code",
   "execution_count": null,
   "metadata": {},
   "outputs": [],
   "source": [
    "studios.info()"
   ]
  },
  {
   "cell_type": "code",
   "execution_count": null,
   "metadata": {},
   "outputs": [],
   "source": [
    "studios.describe()"
   ]
  },
  {
   "cell_type": "code",
   "execution_count": null,
   "metadata": {},
   "outputs": [],
   "source": [
    "imdb_bom_top_studios_df = imdb_bom_df_big[imdb_bom_df_big.studio.isin(list(studios.index))]"
   ]
  },
  {
   "cell_type": "code",
   "execution_count": null,
   "metadata": {},
   "outputs": [],
   "source": [
    "imdb_bom_top_studios_df"
   ]
  },
  {
   "cell_type": "code",
   "execution_count": null,
   "metadata": {},
   "outputs": [],
   "source": [
    "df = imdb_bom_top_studios_df\n",
    "df"
   ]
  },
  {
   "cell_type": "code",
   "execution_count": null,
   "metadata": {},
   "outputs": [],
   "source": [
    "title_genre_ratings = title_genres.join(dfs['imdb.title.ratings'])"
   ]
  },
  {
   "cell_type": "code",
   "execution_count": null,
   "metadata": {},
   "outputs": [],
   "source": [
    "title_genre_ratings[(title_genre_ratings.numvotes > 100000) & (title_genre_ratings.genre == 'Action')] \\\n",
    "                   .averagerating.hist(by=title_genre_ratings['genre'])"
   ]
  },
  {
   "cell_type": "markdown",
   "metadata": {},
   "source": [
    "This actually sort of appears to work:"
   ]
  },
  {
   "cell_type": "code",
   "execution_count": null,
   "metadata": {},
   "outputs": [],
   "source": [
    "title_genre_ratings[title_genre_ratings.numvotes > 100000].groupby('genre').averagerating.hist();"
   ]
  },
  {
   "cell_type": "code",
   "execution_count": null,
   "metadata": {},
   "outputs": [],
   "source": []
  }
 ],
 "metadata": {
  "kernelspec": {
   "display_name": "Python 3",
   "language": "python",
   "name": "python3"
  },
  "language_info": {
   "codemirror_mode": {
    "name": "ipython",
    "version": 3
   },
   "file_extension": ".py",
   "mimetype": "text/x-python",
   "name": "python",
   "nbconvert_exporter": "python",
   "pygments_lexer": "ipython3",
   "version": "3.7.3"
  }
 },
 "nbformat": 4,
 "nbformat_minor": 2
}
