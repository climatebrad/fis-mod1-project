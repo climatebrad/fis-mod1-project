{
 "cells": [
  {
   "cell_type": "code",
   "execution_count": 1,
   "metadata": {},
   "outputs": [],
   "source": [
    "import locale\n",
    "import pandas as pd\n",
    "import numpy as np\n",
    "import matplotlib.pyplot as plt\n",
    "import seaborn as sns\n",
    "\n",
    "%matplotlib inline\n",
    "pd.options.display.float_format = '{:,.2f}'.format\n",
    "#pd.set_option('display.float_format', lambda x: \"0:,.2f\".format(x))\n",
    "#locale.setlocale(locale.LC_ALL, '') \n",
    "\n",
    "# Box Office Mojo\n",
    "bomojo_df = pd.read_csv('~/Projects/dc-ds/lectures/dc-ds-100719/module-1/week-3/project/data/bom.movie_gross.csv.gz')"
   ]
  },
  {
   "cell_type": "code",
   "execution_count": 2,
   "metadata": {},
   "outputs": [],
   "source": [
    "# convert foreign_gross to a float, must strip all punctuation from the strings first\n",
    "def strip_punctuation_from_number_string(s, punc=\"$.,\"):\n",
    "    result = ''\n",
    "    for char in s:\n",
    "        if char not in punc:\n",
    "            result = result + char\n",
    "    return result\n",
    "        \n",
    "bomojo_df['foreign_gross'] = bomojo_df['foreign_gross'].apply(lambda x: strip_punctuation_from_number_string(str(x)))\n",
    "bomojo_df['foreign_gross'] = bomojo_df['foreign_gross'].astype(float)"
   ]
  },
  {
   "cell_type": "code",
   "execution_count": 4,
   "metadata": {},
   "outputs": [],
   "source": [
    "# highest foreign grossing films 2010-2018\n",
    "bomojo_title_millions_df = bomojo_df.groupby(['title']).sum()/1000000\n",
    "LIST_OF_500_GROSSING_MOVIES = list(bomojo_title_millions_df.sort_values('foreign_gross', ascending=False).head(500).index)\n",
    "#LIST_OF_500_GROSSING_MOVIES"
   ]
  },
  {
   "cell_type": "code",
   "execution_count": 5,
   "metadata": {},
   "outputs": [],
   "source": [
    "# Check imdb for mojo titles\n",
    "# IMDB Title Basics\n",
    "imdb_title_basics_df = pd.read_csv('~/Projects/dc-ds/lectures/dc-ds-100719/module-1/week-3/project/data/imdb.title.basics.csv.gz')"
   ]
  },
  {
   "cell_type": "code",
   "execution_count": null,
   "metadata": {},
   "outputs": [],
   "source": [
    "imdb_title"
   ]
  }
 ],
 "metadata": {
  "kernelspec": {
   "display_name": "Python 3",
   "language": "python",
   "name": "python3"
  },
  "language_info": {
   "codemirror_mode": {
    "name": "ipython",
    "version": 3
   },
   "file_extension": ".py",
   "mimetype": "text/x-python",
   "name": "python",
   "nbconvert_exporter": "python",
   "pygments_lexer": "ipython3",
   "version": "3.7.3"
  }
 },
 "nbformat": 4,
 "nbformat_minor": 2
}
