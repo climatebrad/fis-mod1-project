{
 "cells": [
  {
   "cell_type": "markdown",
   "metadata": {},
   "source": [
    "# Mod 1 Project: Coach Checkin"
   ]
  },
  {
   "cell_type": "markdown",
   "metadata": {},
   "source": [
    "Repository:\n",
    "    https://github.com/climatebrad/fis-mod1-project/"
   ]
  },
  {
   "cell_type": "markdown",
   "metadata": {},
   "source": [
    "## Data Sets:\n",
    "* Box Office Mojo - Useful for revenue and studio info    \n",
    "* IMDB - Most number of title, good keys, runtime, genres and detailed cast/crew info, doesn't have revenue and studio info\n",
    "* Rotten Tomatoes - Not useful, not many records, no titles\n",
    "* TMDB - Similar data to IMDB but less records.  Has exact release date as opposed to just year.  Could use to cross-check ratings info vs IMBD ratings.  Genre info is not useful because we only have ids\n",
    "* The Numbers - Useful to perform ROI analysis with budget and revenue data.  Has exact release date\n",
    "    \n"
   ]
  },
  {
   "cell_type": "markdown",
   "metadata": {},
   "source": [
    "## EDA Plan:\n",
    "* Plan to join Box Office Mojo and IMDB Titles based on name\n",
    "\n",
    "* IMDB tables can be joined together on the title ids and name ids where relevant\n",
    "* Determine what genres are popular and have the best ROI.  Still trying to determine how to handle a movie that crosses multiple-genres\n",
    "* Plan to determine directors and actors that have top-grossing titles\n",
    "* Intend to create a scatter plot of ratings vs revenue by genre"
   ]
  },
  {
   "cell_type": "markdown",
   "metadata": {},
   "source": [
    "## review data cleaning\n",
    "\n",
    "review at least one table/chart\n",
    "review work plan created for how teammates will approach and divide work"
   ]
  },
  {
   "cell_type": "code",
   "execution_count": null,
   "metadata": {},
   "outputs": [],
   "source": []
  }
 ],
 "metadata": {
  "kernelspec": {
   "display_name": "Python 3",
   "language": "python",
   "name": "python3"
  },
  "language_info": {
   "codemirror_mode": {
    "name": "ipython",
    "version": 3
   },
   "file_extension": ".py",
   "mimetype": "text/x-python",
   "name": "python",
   "nbconvert_exporter": "python",
   "pygments_lexer": "ipython3",
   "version": "3.7.3"
  }
 },
 "nbformat": 4,
 "nbformat_minor": 2
}
