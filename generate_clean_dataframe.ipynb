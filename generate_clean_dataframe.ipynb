{
 "cells": [
  {
   "cell_type": "code",
   "execution_count": 1,
   "metadata": {},
   "outputs": [],
   "source": [
    "import pandas as pd\n",
    "import numpy as np\n",
    "import seaborn as sns\n",
    "import importlib\n",
    "import data_cleaning as dc\n",
    "%matplotlib inline\n"
   ]
  },
  {
   "cell_type": "markdown",
   "metadata": {},
   "source": [
    "Tables of interest:\n",
    "* imdb.title.basics  (for genres)\n",
    "* imdb.title.ratings (for average ratings)\n",
    "* bom.movie_gross (for studios)\n",
    "* tn.movie_budgets (for budgets and worldwide gross)"
   ]
  },
  {
   "cell_type": "markdown",
   "metadata": {},
   "source": [
    "## Import tables of interest"
   ]
  },
  {
   "cell_type": "markdown",
   "metadata": {},
   "source": [
    "function `df_from_movie_csv` loads csv.gz by tablename into dataframe, setting index, converting date fields to date time, converting dollar fields to numeric."
   ]
  },
  {
   "cell_type": "code",
   "execution_count": 121,
   "metadata": {},
   "outputs": [],
   "source": [
    "\n",
    "import_tables = ['imdb.title.basics','imdb.title.ratings','bom.movie_gross','tn.movie_budgets']\n",
    "dfs = {}\n",
    "for table_name in import_tables:\n",
    "    dfs[table_name] = dc.df_from_movie_csv(table_name)"
   ]
  },
  {
   "cell_type": "markdown",
   "metadata": {},
   "source": [
    "function `clean_movie_df` standardizes field names, adds a `year` column if appropriate, and filters results to 2010-2018."
   ]
  },
  {
   "cell_type": "code",
   "execution_count": 156,
   "metadata": {},
   "outputs": [],
   "source": [
    "importlib.reload(dc)\n",
    "for table_name in import_tables:\n",
    "    dfs[table_name] = dc.clean_movie_df(dfs[table_name],table_name)"
   ]
  },
  {
   "cell_type": "markdown",
   "metadata": {},
   "source": [
    "## Join tables"
   ]
  },
  {
   "cell_type": "markdown",
   "metadata": {},
   "source": [
    "### IMDB"
   ]
  },
  {
   "cell_type": "markdown",
   "metadata": {},
   "source": [
    "Join the two `imdb` dataframes. They join directly on index, no error-checking required."
   ]
  },
  {
   "cell_type": "code",
   "execution_count": 157,
   "metadata": {},
   "outputs": [],
   "source": [
    "imdb_title_ratings_df = dfs['imdb.title.basics'].join(dfs['imdb.title.ratings'])"
   ]
  },
  {
   "cell_type": "code",
   "execution_count": 84,
   "metadata": {},
   "outputs": [
    {
     "data": {
      "text/plain": [
       "1023008"
      ]
     },
     "execution_count": 84,
     "metadata": {},
     "output_type": "execute_result"
    }
   ],
   "source": [
    "imdb_title_ratings_df.size"
   ]
  },
  {
   "cell_type": "code",
   "execution_count": 158,
   "metadata": {},
   "outputs": [
    {
     "data": {
      "text/html": [
       "<div>\n",
       "<style scoped>\n",
       "    .dataframe tbody tr th:only-of-type {\n",
       "        vertical-align: middle;\n",
       "    }\n",
       "\n",
       "    .dataframe tbody tr th {\n",
       "        vertical-align: top;\n",
       "    }\n",
       "\n",
       "    .dataframe thead th {\n",
       "        text-align: right;\n",
       "    }\n",
       "</style>\n",
       "<table border=\"1\" class=\"dataframe\">\n",
       "  <thead>\n",
       "    <tr style=\"text-align: right;\">\n",
       "      <th></th>\n",
       "      <th>title</th>\n",
       "      <th>original_title</th>\n",
       "      <th>start_year</th>\n",
       "      <th>runtime_minutes</th>\n",
       "      <th>genres</th>\n",
       "      <th>averagerating</th>\n",
       "      <th>numvotes</th>\n",
       "    </tr>\n",
       "    <tr>\n",
       "      <th>tconst</th>\n",
       "      <th></th>\n",
       "      <th></th>\n",
       "      <th></th>\n",
       "      <th></th>\n",
       "      <th></th>\n",
       "      <th></th>\n",
       "      <th></th>\n",
       "    </tr>\n",
       "  </thead>\n",
       "  <tbody>\n",
       "    <tr>\n",
       "      <th>tt0063540</th>\n",
       "      <td>Sunghursh</td>\n",
       "      <td>Sunghursh</td>\n",
       "      <td>2013</td>\n",
       "      <td>175.0</td>\n",
       "      <td>Action,Crime,Drama</td>\n",
       "      <td>7.0</td>\n",
       "      <td>77.0</td>\n",
       "    </tr>\n",
       "    <tr>\n",
       "      <th>tt0066787</th>\n",
       "      <td>One Day Before the Rainy Season</td>\n",
       "      <td>Ashad Ka Ek Din</td>\n",
       "      <td>2019</td>\n",
       "      <td>114.0</td>\n",
       "      <td>Biography,Drama</td>\n",
       "      <td>7.2</td>\n",
       "      <td>43.0</td>\n",
       "    </tr>\n",
       "    <tr>\n",
       "      <th>tt0069049</th>\n",
       "      <td>The Other Side of the Wind</td>\n",
       "      <td>The Other Side of the Wind</td>\n",
       "      <td>2018</td>\n",
       "      <td>122.0</td>\n",
       "      <td>Drama</td>\n",
       "      <td>6.9</td>\n",
       "      <td>4517.0</td>\n",
       "    </tr>\n",
       "    <tr>\n",
       "      <th>tt0069204</th>\n",
       "      <td>Sabse Bada Sukh</td>\n",
       "      <td>Sabse Bada Sukh</td>\n",
       "      <td>2018</td>\n",
       "      <td>NaN</td>\n",
       "      <td>Comedy,Drama</td>\n",
       "      <td>6.1</td>\n",
       "      <td>13.0</td>\n",
       "    </tr>\n",
       "    <tr>\n",
       "      <th>tt0100275</th>\n",
       "      <td>The Wandering Soap Opera</td>\n",
       "      <td>La Telenovela Errante</td>\n",
       "      <td>2017</td>\n",
       "      <td>80.0</td>\n",
       "      <td>Comedy,Drama,Fantasy</td>\n",
       "      <td>6.5</td>\n",
       "      <td>119.0</td>\n",
       "    </tr>\n",
       "  </tbody>\n",
       "</table>\n",
       "</div>"
      ],
      "text/plain": [
       "                                     title              original_title  \\\n",
       "tconst                                                                   \n",
       "tt0063540                        Sunghursh                   Sunghursh   \n",
       "tt0066787  One Day Before the Rainy Season             Ashad Ka Ek Din   \n",
       "tt0069049       The Other Side of the Wind  The Other Side of the Wind   \n",
       "tt0069204                  Sabse Bada Sukh             Sabse Bada Sukh   \n",
       "tt0100275         The Wandering Soap Opera       La Telenovela Errante   \n",
       "\n",
       "           start_year  runtime_minutes                genres  averagerating  \\\n",
       "tconst                                                                        \n",
       "tt0063540        2013            175.0    Action,Crime,Drama            7.0   \n",
       "tt0066787        2019            114.0       Biography,Drama            7.2   \n",
       "tt0069049        2018            122.0                 Drama            6.9   \n",
       "tt0069204        2018              NaN          Comedy,Drama            6.1   \n",
       "tt0100275        2017             80.0  Comedy,Drama,Fantasy            6.5   \n",
       "\n",
       "           numvotes  \n",
       "tconst               \n",
       "tt0063540      77.0  \n",
       "tt0066787      43.0  \n",
       "tt0069049    4517.0  \n",
       "tt0069204      13.0  \n",
       "tt0100275     119.0  "
      ]
     },
     "execution_count": 158,
     "metadata": {},
     "output_type": "execute_result"
    }
   ],
   "source": [
    "imdb_title_ratings_df.head()"
   ]
  },
  {
   "cell_type": "markdown",
   "metadata": {},
   "source": [
    "There are a lot of movies with the same `primary_title`. Dedupe by restricting to the entry with the highest `numvotes`."
   ]
  },
  {
   "cell_type": "code",
   "execution_count": 159,
   "metadata": {},
   "outputs": [],
   "source": [
    "imdb_title_ratings_df = dc.select_max_rows_on_key_column(imdb_title_ratings_df, \n",
    "                                                         key_column='title', \n",
    "                                                         max_column='numvotes')"
   ]
  },
  {
   "cell_type": "code",
   "execution_count": 160,
   "metadata": {},
   "outputs": [
    {
     "data": {
      "text/plain": [
       "136071"
      ]
     },
     "execution_count": 160,
     "metadata": {},
     "output_type": "execute_result"
    }
   ],
   "source": [
    "imdb_title_ratings_df.shape[0]"
   ]
  },
  {
   "cell_type": "markdown",
   "metadata": {},
   "source": [
    "### Box Office Mojo"
   ]
  },
  {
   "cell_type": "code",
   "execution_count": 161,
   "metadata": {},
   "outputs": [
    {
     "data": {
      "text/plain": [
       "3386"
      ]
     },
     "execution_count": 161,
     "metadata": {},
     "output_type": "execute_result"
    }
   ],
   "source": [
    "bom_df = dfs['bom.movie_gross']\n",
    "bom_df = dc.select_max_rows_on_key_column(bom_df,key_column='title',max_column='domestic_gross')\n",
    "bom_df.shape[0]"
   ]
  },
  {
   "cell_type": "markdown",
   "metadata": {},
   "source": [
    "Join the `imdb` dataframe with the `bom` dataframe on (English-language) movie title. This misses some big movies (title conventions are not identical)."
   ]
  },
  {
   "cell_type": "code",
   "execution_count": 162,
   "metadata": {},
   "outputs": [
    {
     "data": {
      "text/plain": [
       "2605"
      ]
     },
     "execution_count": 162,
     "metadata": {},
     "output_type": "execute_result"
    }
   ],
   "source": [
    "imdb_bom_df = dc.join_dfs_on_key_col(imdb_title_ratings_df,bom_df,on='title')\n",
    "imdb_bom_df.shape[0]"
   ]
  },
  {
   "cell_type": "markdown",
   "metadata": {},
   "source": [
    "Our matching by title has a success rate of 2605/3386 (77%)."
   ]
  },
  {
   "cell_type": "markdown",
   "metadata": {},
   "source": [
    "### The Numbers"
   ]
  },
  {
   "cell_type": "code",
   "execution_count": 163,
   "metadata": {},
   "outputs": [
    {
     "data": {
      "text/html": [
       "<div>\n",
       "<style scoped>\n",
       "    .dataframe tbody tr th:only-of-type {\n",
       "        vertical-align: middle;\n",
       "    }\n",
       "\n",
       "    .dataframe tbody tr th {\n",
       "        vertical-align: top;\n",
       "    }\n",
       "\n",
       "    .dataframe thead th {\n",
       "        text-align: right;\n",
       "    }\n",
       "</style>\n",
       "<table border=\"1\" class=\"dataframe\">\n",
       "  <thead>\n",
       "    <tr style=\"text-align: right;\">\n",
       "      <th></th>\n",
       "      <th>release_date</th>\n",
       "      <th>title</th>\n",
       "      <th>production_budget</th>\n",
       "      <th>domestic_gross</th>\n",
       "      <th>worldwide_gross</th>\n",
       "      <th>year</th>\n",
       "    </tr>\n",
       "    <tr>\n",
       "      <th>id</th>\n",
       "      <th></th>\n",
       "      <th></th>\n",
       "      <th></th>\n",
       "      <th></th>\n",
       "      <th></th>\n",
       "      <th></th>\n",
       "    </tr>\n",
       "  </thead>\n",
       "  <tbody>\n",
       "    <tr>\n",
       "      <th>2</th>\n",
       "      <td>2011-05-20</td>\n",
       "      <td>Pirates of the Caribbean: On Stranger Tides</td>\n",
       "      <td>410.6</td>\n",
       "      <td>241.063875</td>\n",
       "      <td>1045.663875</td>\n",
       "      <td>2011</td>\n",
       "    </tr>\n",
       "    <tr>\n",
       "      <th>4</th>\n",
       "      <td>2015-05-01</td>\n",
       "      <td>Avengers: Age of Ultron</td>\n",
       "      <td>330.6</td>\n",
       "      <td>459.005868</td>\n",
       "      <td>1403.013963</td>\n",
       "      <td>2015</td>\n",
       "    </tr>\n",
       "    <tr>\n",
       "      <th>5</th>\n",
       "      <td>2017-12-15</td>\n",
       "      <td>Star Wars Ep. VIII: The Last Jedi</td>\n",
       "      <td>317.0</td>\n",
       "      <td>620.181382</td>\n",
       "      <td>1316.721747</td>\n",
       "      <td>2017</td>\n",
       "    </tr>\n",
       "    <tr>\n",
       "      <th>6</th>\n",
       "      <td>2015-12-18</td>\n",
       "      <td>Star Wars Ep. VII: The Force Awakens</td>\n",
       "      <td>306.0</td>\n",
       "      <td>936.662225</td>\n",
       "      <td>2053.311220</td>\n",
       "      <td>2015</td>\n",
       "    </tr>\n",
       "    <tr>\n",
       "      <th>7</th>\n",
       "      <td>2018-04-27</td>\n",
       "      <td>Avengers: Infinity War</td>\n",
       "      <td>300.0</td>\n",
       "      <td>678.815482</td>\n",
       "      <td>2048.134200</td>\n",
       "      <td>2018</td>\n",
       "    </tr>\n",
       "  </tbody>\n",
       "</table>\n",
       "</div>"
      ],
      "text/plain": [
       "   release_date                                        title  \\\n",
       "id                                                             \n",
       "2    2011-05-20  Pirates of the Caribbean: On Stranger Tides   \n",
       "4    2015-05-01                      Avengers: Age of Ultron   \n",
       "5    2017-12-15            Star Wars Ep. VIII: The Last Jedi   \n",
       "6    2015-12-18         Star Wars Ep. VII: The Force Awakens   \n",
       "7    2018-04-27                       Avengers: Infinity War   \n",
       "\n",
       "    production_budget  domestic_gross  worldwide_gross  year  \n",
       "id                                                            \n",
       "2               410.6      241.063875      1045.663875  2011  \n",
       "4               330.6      459.005868      1403.013963  2015  \n",
       "5               317.0      620.181382      1316.721747  2017  \n",
       "6               306.0      936.662225      2053.311220  2015  \n",
       "7               300.0      678.815482      2048.134200  2018  "
      ]
     },
     "execution_count": 163,
     "metadata": {},
     "output_type": "execute_result"
    }
   ],
   "source": [
    "tn_df = dfs['tn.movie_budgets']\n",
    "tn_df.head()"
   ]
  },
  {
   "cell_type": "markdown",
   "metadata": {},
   "source": [
    "Join the `imdb_bom` dataframe with the `tn` dataframe on title and release year. "
   ]
  },
  {
   "cell_type": "code",
   "execution_count": 164,
   "metadata": {},
   "outputs": [],
   "source": [
    "df = dc.join_dfs_on_key_col(imdb_bom_df.drop(columns=['domestic_gross','foreign_gross']),tn_df,on=['title','year'])"
   ]
  },
  {
   "cell_type": "code",
   "execution_count": 165,
   "metadata": {},
   "outputs": [
    {
     "data": {
      "text/plain": [
       "1135"
      ]
     },
     "execution_count": 165,
     "metadata": {},
     "output_type": "execute_result"
    }
   ],
   "source": [
    "df.shape[0]"
   ]
  },
  {
   "cell_type": "code",
   "execution_count": 166,
   "metadata": {},
   "outputs": [
    {
     "data": {
      "text/html": [
       "<div>\n",
       "<style scoped>\n",
       "    .dataframe tbody tr th:only-of-type {\n",
       "        vertical-align: middle;\n",
       "    }\n",
       "\n",
       "    .dataframe tbody tr th {\n",
       "        vertical-align: top;\n",
       "    }\n",
       "\n",
       "    .dataframe thead th {\n",
       "        text-align: right;\n",
       "    }\n",
       "</style>\n",
       "<table border=\"1\" class=\"dataframe\">\n",
       "  <thead>\n",
       "    <tr style=\"text-align: right;\">\n",
       "      <th></th>\n",
       "      <th>title</th>\n",
       "      <th>original_title</th>\n",
       "      <th>start_year</th>\n",
       "      <th>runtime_minutes</th>\n",
       "      <th>genres</th>\n",
       "      <th>averagerating</th>\n",
       "      <th>numvotes</th>\n",
       "      <th>studio</th>\n",
       "      <th>year</th>\n",
       "      <th>release_date</th>\n",
       "      <th>production_budget</th>\n",
       "      <th>domestic_gross</th>\n",
       "      <th>worldwide_gross</th>\n",
       "    </tr>\n",
       "    <tr>\n",
       "      <th>tconst</th>\n",
       "      <th></th>\n",
       "      <th></th>\n",
       "      <th></th>\n",
       "      <th></th>\n",
       "      <th></th>\n",
       "      <th></th>\n",
       "      <th></th>\n",
       "      <th></th>\n",
       "      <th></th>\n",
       "      <th></th>\n",
       "      <th></th>\n",
       "      <th></th>\n",
       "      <th></th>\n",
       "    </tr>\n",
       "  </thead>\n",
       "  <tbody>\n",
       "    <tr>\n",
       "      <th>tt1179933</th>\n",
       "      <td>10 Cloverfield Lane</td>\n",
       "      <td>10 Cloverfield Lane</td>\n",
       "      <td>2016</td>\n",
       "      <td>103.0</td>\n",
       "      <td>Drama,Horror,Mystery</td>\n",
       "      <td>7.2</td>\n",
       "      <td>260383.0</td>\n",
       "      <td>Par.</td>\n",
       "      <td>2016</td>\n",
       "      <td>2016-03-11</td>\n",
       "      <td>5.0</td>\n",
       "      <td>72.082999</td>\n",
       "      <td>108.286422</td>\n",
       "    </tr>\n",
       "    <tr>\n",
       "      <th>tt1413492</th>\n",
       "      <td>12 Strong</td>\n",
       "      <td>12 Strong</td>\n",
       "      <td>2018</td>\n",
       "      <td>130.0</td>\n",
       "      <td>Action,Drama,History</td>\n",
       "      <td>6.6</td>\n",
       "      <td>50155.0</td>\n",
       "      <td>WB</td>\n",
       "      <td>2018</td>\n",
       "      <td>2018-01-19</td>\n",
       "      <td>35.0</td>\n",
       "      <td>45.819713</td>\n",
       "      <td>71.118378</td>\n",
       "    </tr>\n",
       "    <tr>\n",
       "      <th>tt2024544</th>\n",
       "      <td>12 Years a Slave</td>\n",
       "      <td>12 Years a Slave</td>\n",
       "      <td>2013</td>\n",
       "      <td>134.0</td>\n",
       "      <td>Biography,Drama,History</td>\n",
       "      <td>8.1</td>\n",
       "      <td>577301.0</td>\n",
       "      <td>FoxS</td>\n",
       "      <td>2013</td>\n",
       "      <td>2013-10-18</td>\n",
       "      <td>20.0</td>\n",
       "      <td>56.671993</td>\n",
       "      <td>181.025343</td>\n",
       "    </tr>\n",
       "    <tr>\n",
       "      <th>tt1542344</th>\n",
       "      <td>127 Hours</td>\n",
       "      <td>127 Hours</td>\n",
       "      <td>2010</td>\n",
       "      <td>94.0</td>\n",
       "      <td>Adventure,Biography,Drama</td>\n",
       "      <td>7.6</td>\n",
       "      <td>323949.0</td>\n",
       "      <td>FoxS</td>\n",
       "      <td>2010</td>\n",
       "      <td>2010-11-05</td>\n",
       "      <td>18.0</td>\n",
       "      <td>18.335230</td>\n",
       "      <td>60.217171</td>\n",
       "    </tr>\n",
       "    <tr>\n",
       "      <th>tt2059171</th>\n",
       "      <td>13 Sins</td>\n",
       "      <td>13 Sins</td>\n",
       "      <td>2014</td>\n",
       "      <td>93.0</td>\n",
       "      <td>Horror,Thriller</td>\n",
       "      <td>6.3</td>\n",
       "      <td>29550.0</td>\n",
       "      <td>RTWC</td>\n",
       "      <td>2014</td>\n",
       "      <td>2014-04-18</td>\n",
       "      <td>4.0</td>\n",
       "      <td>0.009134</td>\n",
       "      <td>0.047552</td>\n",
       "    </tr>\n",
       "  </tbody>\n",
       "</table>\n",
       "</div>"
      ],
      "text/plain": [
       "                         title       original_title  start_year  \\\n",
       "tconst                                                            \n",
       "tt1179933  10 Cloverfield Lane  10 Cloverfield Lane        2016   \n",
       "tt1413492            12 Strong            12 Strong        2018   \n",
       "tt2024544     12 Years a Slave     12 Years a Slave        2013   \n",
       "tt1542344            127 Hours            127 Hours        2010   \n",
       "tt2059171              13 Sins              13 Sins        2014   \n",
       "\n",
       "           runtime_minutes                     genres  averagerating  \\\n",
       "tconst                                                                 \n",
       "tt1179933            103.0       Drama,Horror,Mystery            7.2   \n",
       "tt1413492            130.0       Action,Drama,History            6.6   \n",
       "tt2024544            134.0    Biography,Drama,History            8.1   \n",
       "tt1542344             94.0  Adventure,Biography,Drama            7.6   \n",
       "tt2059171             93.0            Horror,Thriller            6.3   \n",
       "\n",
       "           numvotes studio  year release_date  production_budget  \\\n",
       "tconst                                                             \n",
       "tt1179933  260383.0   Par.  2016   2016-03-11                5.0   \n",
       "tt1413492   50155.0     WB  2018   2018-01-19               35.0   \n",
       "tt2024544  577301.0   FoxS  2013   2013-10-18               20.0   \n",
       "tt1542344  323949.0   FoxS  2010   2010-11-05               18.0   \n",
       "tt2059171   29550.0   RTWC  2014   2014-04-18                4.0   \n",
       "\n",
       "           domestic_gross  worldwide_gross  \n",
       "tconst                                      \n",
       "tt1179933       72.082999       108.286422  \n",
       "tt1413492       45.819713        71.118378  \n",
       "tt2024544       56.671993       181.025343  \n",
       "tt1542344       18.335230        60.217171  \n",
       "tt2059171        0.009134         0.047552  "
      ]
     },
     "execution_count": 166,
     "metadata": {},
     "output_type": "execute_result"
    }
   ],
   "source": [
    "df.head()"
   ]
  },
  {
   "cell_type": "code",
   "execution_count": 167,
   "metadata": {},
   "outputs": [],
   "source": [
    "df['profit'] = df.worldwide_gross - df.production_budget"
   ]
  },
  {
   "cell_type": "code",
   "execution_count": 168,
   "metadata": {},
   "outputs": [],
   "source": [
    "df['roi'] = df.profit / df.production_budget"
   ]
  },
  {
   "cell_type": "code",
   "execution_count": 169,
   "metadata": {},
   "outputs": [
    {
     "data": {
      "text/html": [
       "<div>\n",
       "<style scoped>\n",
       "    .dataframe tbody tr th:only-of-type {\n",
       "        vertical-align: middle;\n",
       "    }\n",
       "\n",
       "    .dataframe tbody tr th {\n",
       "        vertical-align: top;\n",
       "    }\n",
       "\n",
       "    .dataframe thead th {\n",
       "        text-align: right;\n",
       "    }\n",
       "</style>\n",
       "<table border=\"1\" class=\"dataframe\">\n",
       "  <thead>\n",
       "    <tr style=\"text-align: right;\">\n",
       "      <th></th>\n",
       "      <th>title</th>\n",
       "      <th>original_title</th>\n",
       "      <th>start_year</th>\n",
       "      <th>runtime_minutes</th>\n",
       "      <th>genres</th>\n",
       "      <th>averagerating</th>\n",
       "      <th>numvotes</th>\n",
       "      <th>studio</th>\n",
       "      <th>year</th>\n",
       "      <th>release_date</th>\n",
       "      <th>production_budget</th>\n",
       "      <th>domestic_gross</th>\n",
       "      <th>worldwide_gross</th>\n",
       "      <th>profit</th>\n",
       "      <th>roi</th>\n",
       "    </tr>\n",
       "    <tr>\n",
       "      <th>tconst</th>\n",
       "      <th></th>\n",
       "      <th></th>\n",
       "      <th></th>\n",
       "      <th></th>\n",
       "      <th></th>\n",
       "      <th></th>\n",
       "      <th></th>\n",
       "      <th></th>\n",
       "      <th></th>\n",
       "      <th></th>\n",
       "      <th></th>\n",
       "      <th></th>\n",
       "      <th></th>\n",
       "      <th></th>\n",
       "      <th></th>\n",
       "    </tr>\n",
       "  </thead>\n",
       "  <tbody>\n",
       "    <tr>\n",
       "      <th>tt1179933</th>\n",
       "      <td>10 Cloverfield Lane</td>\n",
       "      <td>10 Cloverfield Lane</td>\n",
       "      <td>2016</td>\n",
       "      <td>103.0</td>\n",
       "      <td>Drama,Horror,Mystery</td>\n",
       "      <td>7.2</td>\n",
       "      <td>260383.0</td>\n",
       "      <td>Par.</td>\n",
       "      <td>2016</td>\n",
       "      <td>2016-03-11</td>\n",
       "      <td>5.0</td>\n",
       "      <td>72.082999</td>\n",
       "      <td>108.286422</td>\n",
       "      <td>103.286422</td>\n",
       "      <td>20.657284</td>\n",
       "    </tr>\n",
       "    <tr>\n",
       "      <th>tt1413492</th>\n",
       "      <td>12 Strong</td>\n",
       "      <td>12 Strong</td>\n",
       "      <td>2018</td>\n",
       "      <td>130.0</td>\n",
       "      <td>Action,Drama,History</td>\n",
       "      <td>6.6</td>\n",
       "      <td>50155.0</td>\n",
       "      <td>WB</td>\n",
       "      <td>2018</td>\n",
       "      <td>2018-01-19</td>\n",
       "      <td>35.0</td>\n",
       "      <td>45.819713</td>\n",
       "      <td>71.118378</td>\n",
       "      <td>36.118378</td>\n",
       "      <td>1.031954</td>\n",
       "    </tr>\n",
       "    <tr>\n",
       "      <th>tt2024544</th>\n",
       "      <td>12 Years a Slave</td>\n",
       "      <td>12 Years a Slave</td>\n",
       "      <td>2013</td>\n",
       "      <td>134.0</td>\n",
       "      <td>Biography,Drama,History</td>\n",
       "      <td>8.1</td>\n",
       "      <td>577301.0</td>\n",
       "      <td>FoxS</td>\n",
       "      <td>2013</td>\n",
       "      <td>2013-10-18</td>\n",
       "      <td>20.0</td>\n",
       "      <td>56.671993</td>\n",
       "      <td>181.025343</td>\n",
       "      <td>161.025343</td>\n",
       "      <td>8.051267</td>\n",
       "    </tr>\n",
       "    <tr>\n",
       "      <th>tt1542344</th>\n",
       "      <td>127 Hours</td>\n",
       "      <td>127 Hours</td>\n",
       "      <td>2010</td>\n",
       "      <td>94.0</td>\n",
       "      <td>Adventure,Biography,Drama</td>\n",
       "      <td>7.6</td>\n",
       "      <td>323949.0</td>\n",
       "      <td>FoxS</td>\n",
       "      <td>2010</td>\n",
       "      <td>2010-11-05</td>\n",
       "      <td>18.0</td>\n",
       "      <td>18.335230</td>\n",
       "      <td>60.217171</td>\n",
       "      <td>42.217171</td>\n",
       "      <td>2.345398</td>\n",
       "    </tr>\n",
       "    <tr>\n",
       "      <th>tt2059171</th>\n",
       "      <td>13 Sins</td>\n",
       "      <td>13 Sins</td>\n",
       "      <td>2014</td>\n",
       "      <td>93.0</td>\n",
       "      <td>Horror,Thriller</td>\n",
       "      <td>6.3</td>\n",
       "      <td>29550.0</td>\n",
       "      <td>RTWC</td>\n",
       "      <td>2014</td>\n",
       "      <td>2014-04-18</td>\n",
       "      <td>4.0</td>\n",
       "      <td>0.009134</td>\n",
       "      <td>0.047552</td>\n",
       "      <td>-3.952448</td>\n",
       "      <td>-0.988112</td>\n",
       "    </tr>\n",
       "  </tbody>\n",
       "</table>\n",
       "</div>"
      ],
      "text/plain": [
       "                         title       original_title  start_year  \\\n",
       "tconst                                                            \n",
       "tt1179933  10 Cloverfield Lane  10 Cloverfield Lane        2016   \n",
       "tt1413492            12 Strong            12 Strong        2018   \n",
       "tt2024544     12 Years a Slave     12 Years a Slave        2013   \n",
       "tt1542344            127 Hours            127 Hours        2010   \n",
       "tt2059171              13 Sins              13 Sins        2014   \n",
       "\n",
       "           runtime_minutes                     genres  averagerating  \\\n",
       "tconst                                                                 \n",
       "tt1179933            103.0       Drama,Horror,Mystery            7.2   \n",
       "tt1413492            130.0       Action,Drama,History            6.6   \n",
       "tt2024544            134.0    Biography,Drama,History            8.1   \n",
       "tt1542344             94.0  Adventure,Biography,Drama            7.6   \n",
       "tt2059171             93.0            Horror,Thriller            6.3   \n",
       "\n",
       "           numvotes studio  year release_date  production_budget  \\\n",
       "tconst                                                             \n",
       "tt1179933  260383.0   Par.  2016   2016-03-11                5.0   \n",
       "tt1413492   50155.0     WB  2018   2018-01-19               35.0   \n",
       "tt2024544  577301.0   FoxS  2013   2013-10-18               20.0   \n",
       "tt1542344  323949.0   FoxS  2010   2010-11-05               18.0   \n",
       "tt2059171   29550.0   RTWC  2014   2014-04-18                4.0   \n",
       "\n",
       "           domestic_gross  worldwide_gross      profit        roi  \n",
       "tconst                                                             \n",
       "tt1179933       72.082999       108.286422  103.286422  20.657284  \n",
       "tt1413492       45.819713        71.118378   36.118378   1.031954  \n",
       "tt2024544       56.671993       181.025343  161.025343   8.051267  \n",
       "tt1542344       18.335230        60.217171   42.217171   2.345398  \n",
       "tt2059171        0.009134         0.047552   -3.952448  -0.988112  "
      ]
     },
     "execution_count": 169,
     "metadata": {},
     "output_type": "execute_result"
    }
   ],
   "source": [
    "df.head()"
   ]
  },
  {
   "cell_type": "code",
   "execution_count": 170,
   "metadata": {},
   "outputs": [
    {
     "data": {
      "text/html": [
       "<div>\n",
       "<style scoped>\n",
       "    .dataframe tbody tr th:only-of-type {\n",
       "        vertical-align: middle;\n",
       "    }\n",
       "\n",
       "    .dataframe tbody tr th {\n",
       "        vertical-align: top;\n",
       "    }\n",
       "\n",
       "    .dataframe thead th {\n",
       "        text-align: right;\n",
       "    }\n",
       "</style>\n",
       "<table border=\"1\" class=\"dataframe\">\n",
       "  <thead>\n",
       "    <tr style=\"text-align: right;\">\n",
       "      <th></th>\n",
       "      <th>start_year</th>\n",
       "      <th>runtime_minutes</th>\n",
       "      <th>averagerating</th>\n",
       "      <th>numvotes</th>\n",
       "      <th>year</th>\n",
       "      <th>production_budget</th>\n",
       "      <th>domestic_gross</th>\n",
       "      <th>worldwide_gross</th>\n",
       "      <th>profit</th>\n",
       "      <th>roi</th>\n",
       "    </tr>\n",
       "  </thead>\n",
       "  <tbody>\n",
       "    <tr>\n",
       "      <th>count</th>\n",
       "      <td>1135.000000</td>\n",
       "      <td>1135.000000</td>\n",
       "      <td>1134.000000</td>\n",
       "      <td>1.134000e+03</td>\n",
       "      <td>1135.000000</td>\n",
       "      <td>1135.000000</td>\n",
       "      <td>1135.000000</td>\n",
       "      <td>1135.000000</td>\n",
       "      <td>1135.000000</td>\n",
       "      <td>1135.000000</td>\n",
       "    </tr>\n",
       "    <tr>\n",
       "      <th>mean</th>\n",
       "      <td>2013.579736</td>\n",
       "      <td>109.335683</td>\n",
       "      <td>6.472928</td>\n",
       "      <td>1.387685e+05</td>\n",
       "      <td>2013.663436</td>\n",
       "      <td>49.292330</td>\n",
       "      <td>64.145831</td>\n",
       "      <td>161.681521</td>\n",
       "      <td>112.389190</td>\n",
       "      <td>3.514366</td>\n",
       "    </tr>\n",
       "    <tr>\n",
       "      <th>std</th>\n",
       "      <td>2.511092</td>\n",
       "      <td>17.613655</td>\n",
       "      <td>0.930022</td>\n",
       "      <td>1.729823e+05</td>\n",
       "      <td>2.509142</td>\n",
       "      <td>57.440479</td>\n",
       "      <td>87.358082</td>\n",
       "      <td>243.021924</td>\n",
       "      <td>201.431578</td>\n",
       "      <td>13.954478</td>\n",
       "    </tr>\n",
       "    <tr>\n",
       "      <th>min</th>\n",
       "      <td>2010.000000</td>\n",
       "      <td>41.000000</td>\n",
       "      <td>1.600000</td>\n",
       "      <td>1.000000e+01</td>\n",
       "      <td>2010.000000</td>\n",
       "      <td>0.050000</td>\n",
       "      <td>0.000000</td>\n",
       "      <td>0.001242</td>\n",
       "      <td>-110.450242</td>\n",
       "      <td>-0.999862</td>\n",
       "    </tr>\n",
       "    <tr>\n",
       "      <th>25%</th>\n",
       "      <td>2011.000000</td>\n",
       "      <td>97.000000</td>\n",
       "      <td>5.900000</td>\n",
       "      <td>3.483400e+04</td>\n",
       "      <td>2011.000000</td>\n",
       "      <td>11.000000</td>\n",
       "      <td>9.934055</td>\n",
       "      <td>20.968331</td>\n",
       "      <td>3.920029</td>\n",
       "      <td>0.240090</td>\n",
       "    </tr>\n",
       "    <tr>\n",
       "      <th>50%</th>\n",
       "      <td>2013.000000</td>\n",
       "      <td>106.000000</td>\n",
       "      <td>6.500000</td>\n",
       "      <td>8.087400e+04</td>\n",
       "      <td>2014.000000</td>\n",
       "      <td>28.000000</td>\n",
       "      <td>35.593113</td>\n",
       "      <td>70.536870</td>\n",
       "      <td>36.118378</td>\n",
       "      <td>1.493783</td>\n",
       "    </tr>\n",
       "    <tr>\n",
       "      <th>75%</th>\n",
       "      <td>2016.000000</td>\n",
       "      <td>119.000000</td>\n",
       "      <td>7.100000</td>\n",
       "      <td>1.698302e+05</td>\n",
       "      <td>2016.000000</td>\n",
       "      <td>60.000000</td>\n",
       "      <td>79.145948</td>\n",
       "      <td>186.798798</td>\n",
       "      <td>124.707235</td>\n",
       "      <td>3.405503</td>\n",
       "    </tr>\n",
       "    <tr>\n",
       "      <th>max</th>\n",
       "      <td>2018.000000</td>\n",
       "      <td>180.000000</td>\n",
       "      <td>8.800000</td>\n",
       "      <td>1.841066e+06</td>\n",
       "      <td>2018.000000</td>\n",
       "      <td>410.600000</td>\n",
       "      <td>700.059566</td>\n",
       "      <td>2048.134200</td>\n",
       "      <td>1748.134200</td>\n",
       "      <td>415.564740</td>\n",
       "    </tr>\n",
       "  </tbody>\n",
       "</table>\n",
       "</div>"
      ],
      "text/plain": [
       "        start_year  runtime_minutes  averagerating      numvotes         year  \\\n",
       "count  1135.000000      1135.000000    1134.000000  1.134000e+03  1135.000000   \n",
       "mean   2013.579736       109.335683       6.472928  1.387685e+05  2013.663436   \n",
       "std       2.511092        17.613655       0.930022  1.729823e+05     2.509142   \n",
       "min    2010.000000        41.000000       1.600000  1.000000e+01  2010.000000   \n",
       "25%    2011.000000        97.000000       5.900000  3.483400e+04  2011.000000   \n",
       "50%    2013.000000       106.000000       6.500000  8.087400e+04  2014.000000   \n",
       "75%    2016.000000       119.000000       7.100000  1.698302e+05  2016.000000   \n",
       "max    2018.000000       180.000000       8.800000  1.841066e+06  2018.000000   \n",
       "\n",
       "       production_budget  domestic_gross  worldwide_gross       profit  \\\n",
       "count        1135.000000     1135.000000      1135.000000  1135.000000   \n",
       "mean           49.292330       64.145831       161.681521   112.389190   \n",
       "std            57.440479       87.358082       243.021924   201.431578   \n",
       "min             0.050000        0.000000         0.001242  -110.450242   \n",
       "25%            11.000000        9.934055        20.968331     3.920029   \n",
       "50%            28.000000       35.593113        70.536870    36.118378   \n",
       "75%            60.000000       79.145948       186.798798   124.707235   \n",
       "max           410.600000      700.059566      2048.134200  1748.134200   \n",
       "\n",
       "               roi  \n",
       "count  1135.000000  \n",
       "mean      3.514366  \n",
       "std      13.954478  \n",
       "min      -0.999862  \n",
       "25%       0.240090  \n",
       "50%       1.493783  \n",
       "75%       3.405503  \n",
       "max     415.564740  "
      ]
     },
     "execution_count": 170,
     "metadata": {},
     "output_type": "execute_result"
    }
   ],
   "source": [
    "df.describe()"
   ]
  },
  {
   "cell_type": "code",
   "execution_count": null,
   "metadata": {},
   "outputs": [],
   "source": []
  }
 ],
 "metadata": {
  "kernelspec": {
   "display_name": "Python 3",
   "language": "python",
   "name": "python3"
  },
  "language_info": {
   "codemirror_mode": {
    "name": "ipython",
    "version": 3
   },
   "file_extension": ".py",
   "mimetype": "text/x-python",
   "name": "python",
   "nbconvert_exporter": "python",
   "pygments_lexer": "ipython3",
   "version": "3.7.3"
  }
 },
 "nbformat": 4,
 "nbformat_minor": 2
}
